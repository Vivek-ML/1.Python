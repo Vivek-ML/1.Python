{
 "cells": [
  {
   "cell_type": "code",
   "execution_count": 46,
   "id": "b660e983-bd41-4837-91cc-ee6878d94780",
   "metadata": {},
   "outputs": [
    {
     "name": "stdout",
     "output_type": "stream",
     "text": [
      "Sub-fields in AI are:\n",
      "Machine Learning\n",
      "Neural Networks\n",
      "Vision\n",
      "Robotics\n",
      "Speech Processing\n",
      "Natural Language Processing\n"
     ]
    }
   ],
   "source": [
    "class SubfieldsInAI():\n",
    "    \n",
    "    def Subfields():\n",
    "        list =[\"Machine Learning\",\"Neural Networks\",\"Vision\",\"Robotics\",\"Speech Processing\",\"Natural Language Processing\"]\n",
    "        print(\"\"\"Sub-fields in AI are:\"\"\")\n",
    "        for i in list:\n",
    "            print(i)\n",
    "\n",
    "SubfieldsInAI.Subfields()"
   ]
  },
  {
   "cell_type": "code",
   "execution_count": 17,
   "id": "015eb9d9-5957-4d17-8489-7717288bc426",
   "metadata": {},
   "outputs": [
    {
     "name": "stdin",
     "output_type": "stream",
     "text": [
      "Enter a number: 52452\n"
     ]
    },
    {
     "data": {
      "text/plain": [
       "(52452, 'is Even number')"
      ]
     },
     "execution_count": 17,
     "metadata": {},
     "output_type": "execute_result"
    }
   ],
   "source": [
    "class OddEven():\n",
    "    def OddEven():\n",
    "        num= int(input(\"Enter a number:\"))\n",
    "        if num%2==0:\n",
    "            result= num, \"is Even number\"\n",
    "            return result\n",
    "        \n",
    "\n",
    "OddEven.OddEven()"
   ]
  },
  {
   "cell_type": "code",
   "execution_count": 28,
   "id": "2a21f759-9e09-450f-9740-7cf8eaa95cf5",
   "metadata": {},
   "outputs": [
    {
     "name": "stdin",
     "output_type": "stream",
     "text": [
      "Your Gender: Male\n",
      "Your Age: 20\n"
     ]
    },
    {
     "name": "stdout",
     "output_type": "stream",
     "text": [
      "Your Gender: Male\n",
      "your age is: 20 ,SO NOT ELIGIBLE\n"
     ]
    }
   ],
   "source": [
    "class ElegiblityForMarriage():\n",
    "    def Elegible():\n",
    "        Gender = input(\"Your Gender:\")\n",
    "        Age = int(input(\"Your Age:\"))\n",
    "        if Gender==\"Male\" and Age<=21:\n",
    "            print(\"Your Gender:\",Gender)\n",
    "            print(\"your age is:\",Age,\",SO NOT ELIGIBLE\")\n",
    "        elif Gender==\"Female\" and Age<=18:\n",
    "            print(\"Your Gender:\",Gender)\n",
    "            print(\"your age is:\",Age,\",SO NOT ELIGIBLE\")\n",
    "\n",
    "ElegiblityForMarriage.Elegible()\n",
    "        "
   ]
  },
  {
   "cell_type": "code",
   "execution_count": 26,
   "id": "46e9b211-6b59-4a0e-940f-af8443abcde5",
   "metadata": {},
   "outputs": [
    {
     "name": "stdin",
     "output_type": "stream",
     "text": [
      "Subject1= 98\n",
      "Subject2= 87\n",
      "Subject3= 95\n",
      "Subject4= 95\n",
      "Subject5= 93\n"
     ]
    },
    {
     "data": {
      "text/plain": [
       "(('Total : ', 468), ('percentage : ', 93.6))"
      ]
     },
     "execution_count": 26,
     "metadata": {},
     "output_type": "execute_result"
    }
   ],
   "source": [
    "class FindPercent():\n",
    "    def percentage():\n",
    "        Subject1=int(input(\"Subject1=\"))\n",
    "        Subject2=int(input(\"Subject2=\"))\n",
    "        Subject3=int(input(\"Subject3=\"))\n",
    "        Subject4=int(input(\"Subject4=\"))\n",
    "        Subject5=int(input(\"Subject5=\"))\n",
    "        Total=(Subject1+Subject2+Subject3+Subject4+Subject5)\n",
    "        percentage =(Subject1+Subject2+Subject3+Subject4+Subject5)/5\n",
    "        result1 = \"Total : \",Total\n",
    "        result2 =\"percentage : \",percentage\n",
    "        return result1,result2\n",
    "        \n",
    "\n",
    "FindPercent.percentage()"
   ]
  },
  {
   "cell_type": "code",
   "execution_count": null,
   "id": "105dbeec-893c-47c0-9519-d31bc382d7f8",
   "metadata": {},
   "outputs": [],
   "source": []
  },
  {
   "cell_type": "code",
   "execution_count": 12,
   "id": "ed9cf039-4a1d-433e-9cc9-94f58913bf10",
   "metadata": {},
   "outputs": [
    {
     "name": "stdin",
     "output_type": "stream",
     "text": [
      "Height: 32\n",
      "Breadth: 34\n"
     ]
    },
    {
     "name": "stdout",
     "output_type": "stream",
     "text": [
      "Area of Triangle: 544.0\n"
     ]
    },
    {
     "name": "stdin",
     "output_type": "stream",
     "text": [
      "Height1: 2\n",
      "Height2: 4\n",
      "Breadth1: 4\n"
     ]
    },
    {
     "name": "stdout",
     "output_type": "stream",
     "text": [
      "Perimeter of Triangle: 10\n"
     ]
    }
   ],
   "source": [
    "class triangle():\n",
    "    def triangle():\n",
    "        Height = int(input(\"Height:\"))\n",
    "        Breadth = int(input(\"Breadth:\"))\n",
    "        Area_of_Triangle =  (Height*Breadth)/2\n",
    "        print(\"Area of Triangle:\",Area_of_Triangle)\n",
    "        Height1 = int(input(\"Height1:\"))\n",
    "        Height2 = int(input(\"Height2:\"))\n",
    "        Breadth1 = int(input(\"Breadth1:\"))\n",
    "        Perimeter_of_Triangle = Height1+Height2+Breadth1\n",
    "        print(\"Perimeter of Triangle:\",Perimeter_of_Triangle)\n",
    "triangle.triangle()"
   ]
  },
  {
   "cell_type": "code",
   "execution_count": null,
   "id": "d29c8fde-c32f-4afd-9d58-d8fa9f48e2e0",
   "metadata": {},
   "outputs": [],
   "source": []
  },
  {
   "cell_type": "code",
   "execution_count": null,
   "id": "08fcb9a4-78df-4abc-a82b-42dcd3591ccb",
   "metadata": {},
   "outputs": [],
   "source": []
  }
 ],
 "metadata": {
  "kernelspec": {
   "display_name": "Python 3 (ipykernel)",
   "language": "python",
   "name": "python3"
  },
  "language_info": {
   "codemirror_mode": {
    "name": "ipython",
    "version": 3
   },
   "file_extension": ".py",
   "mimetype": "text/x-python",
   "name": "python",
   "nbconvert_exporter": "python",
   "pygments_lexer": "ipython3",
   "version": "3.12.4"
  }
 },
 "nbformat": 4,
 "nbformat_minor": 5
}
