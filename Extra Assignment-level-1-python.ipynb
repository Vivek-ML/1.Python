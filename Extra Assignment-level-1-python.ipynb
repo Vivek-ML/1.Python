{
 "cells": [
  {
   "cell_type": "code",
   "execution_count": 1,
   "id": "b80d169b-d268-4e1b-bce4-eaf5ce4d5040",
   "metadata": {},
   "outputs": [
    {
     "name": "stdout",
     "output_type": "stream",
     "text": [
      "Hope AI\n"
     ]
    }
   ],
   "source": [
    "print(\"Hope AI\")"
   ]
  },
  {
   "cell_type": "code",
   "execution_count": 5,
   "id": "d01e79aa-f279-4e5e-a16c-4a94b5fe3f72",
   "metadata": {},
   "outputs": [
    {
     "name": "stdin",
     "output_type": "stream",
     "text": [
      "Enter your institute name? : Hope AI\n"
     ]
    }
   ],
   "source": [
    "name =input(\"Enter your institute name? :\")"
   ]
  },
  {
   "cell_type": "code",
   "execution_count": 9,
   "id": "08041847-90e7-4a47-9f09-2db43ad0d53e",
   "metadata": {},
   "outputs": [
    {
     "name": "stdin",
     "output_type": "stream",
     "text": [
      "Enter your name: Raj\n",
      "Enter your age: 15\n",
      "Enter your school name: Guru school\n",
      "Enter your drgree: B.E CSE\n"
     ]
    }
   ],
   "source": [
    "name =input(\"Enter your name:\")\n",
    "age =input(\"Enter your age:\")\n",
    "school_name =input(\"Enter your school name:\")\n",
    "degree =input(\"Enter your drgree:\")"
   ]
  },
  {
   "cell_type": "code",
   "execution_count": 15,
   "id": "aa92ebfa-a422-4fec-8e06-2453136eb510",
   "metadata": {},
   "outputs": [
    {
     "name": "stdin",
     "output_type": "stream",
     "text": [
      "a= 34\n",
      "b= 43\n"
     ]
    },
    {
     "name": "stdout",
     "output_type": "stream",
     "text": [
      "add= 77\n"
     ]
    }
   ],
   "source": [
    "a= int(input(\"a=\"))\n",
    "b= int(input(\"b=\"))\n",
    "add = a+b\n",
    "print(\"add=\",add)"
   ]
  },
  {
   "cell_type": "code",
   "execution_count": 17,
   "id": "e4b7c1cb-fe25-4f56-ae0f-e6b901d45500",
   "metadata": {},
   "outputs": [
    {
     "name": "stdin",
     "output_type": "stream",
     "text": [
      "a= 43\n",
      "b= 34\n"
     ]
    },
    {
     "name": "stdout",
     "output_type": "stream",
     "text": [
      "sub= 9\n"
     ]
    }
   ],
   "source": [
    "a= int(input(\"a=\"))\n",
    "b= int(input(\"b=\"))\n",
    "sub = a-b\n",
    "print(\"sub=\",sub)"
   ]
  },
  {
   "cell_type": "code",
   "execution_count": 21,
   "id": "a780df7d-fdcf-4459-9a39-eafff6dd89f9",
   "metadata": {},
   "outputs": [
    {
     "name": "stdin",
     "output_type": "stream",
     "text": [
      "a= 63\n",
      "b= 97\n"
     ]
    },
    {
     "name": "stdout",
     "output_type": "stream",
     "text": [
      "Mul= 6111\n"
     ]
    }
   ],
   "source": [
    "a= int(input(\"a=\"))\n",
    "b= int(input(\"b=\"))\n",
    "Mul = a*b\n",
    "print(\"Mul=\",Mul)"
   ]
  },
  {
   "cell_type": "code",
   "execution_count": null,
   "id": "2fa5f7d3-d065-4ddb-a1c7-a4e0de85c92a",
   "metadata": {},
   "outputs": [],
   "source": []
  },
  {
   "cell_type": "code",
   "execution_count": 25,
   "id": "82fa51cf-b178-4695-9021-c6ac27243201",
   "metadata": {},
   "outputs": [
    {
     "name": "stdin",
     "output_type": "stream",
     "text": [
      "a= 76\n",
      "b= 31\n"
     ]
    },
    {
     "name": "stdout",
     "output_type": "stream",
     "text": [
      "Floor Div = 2.4516129032258065\n"
     ]
    }
   ],
   "source": [
    "a= int(input(\"a=\"))\n",
    "b= int(input(\"b=\"))\n",
    "Div = a/b\n",
    "print(\"Float Div =\",Div)"
   ]
  },
  {
   "cell_type": "code",
   "execution_count": 29,
   "id": "8d6f4064-252f-46d1-adf1-263cd57ed748",
   "metadata": {},
   "outputs": [
    {
     "name": "stdin",
     "output_type": "stream",
     "text": [
      "a= 76\n",
      "b= 31\n"
     ]
    },
    {
     "name": "stdout",
     "output_type": "stream",
     "text": [
      "Floor Div = 2\n"
     ]
    }
   ],
   "source": [
    "a= int(input(\"a=\"))\n",
    "b= int(input(\"b=\"))\n",
    "Div = a//b\n",
    "print(\"Floor Div =\",Div)"
   ]
  },
  {
   "cell_type": "code",
   "execution_count": 33,
   "id": "2bccaaa4-f98e-4090-9c34-8a87863c5b27",
   "metadata": {},
   "outputs": [
    {
     "name": "stdin",
     "output_type": "stream",
     "text": [
      "a= 76\n",
      "b= 31\n"
     ]
    },
    {
     "name": "stdout",
     "output_type": "stream",
     "text": [
      "Modulo = 14\n"
     ]
    }
   ],
   "source": [
    "a= int(input(\"a=\"))\n",
    "b= int(input(\"b=\"))\n",
    "Div = a%b\n",
    "print(\"Modulo =\",Div)"
   ]
  },
  {
   "cell_type": "code",
   "execution_count": 35,
   "id": "9ac645c3-12a9-4329-9694-b0d81f9d33ca",
   "metadata": {},
   "outputs": [
    {
     "name": "stdin",
     "output_type": "stream",
     "text": [
      "a= 4\n",
      "b= 4\n"
     ]
    },
    {
     "name": "stdout",
     "output_type": "stream",
     "text": [
      "Power = 256\n"
     ]
    }
   ],
   "source": [
    "a= int(input(\"a=\"))\n",
    "b= int(input(\"b=\"))\n",
    "Div = a**b\n",
    "print(\"Power =\",Div)"
   ]
  },
  {
   "cell_type": "code",
   "execution_count": null,
   "id": "5e64636e-29b8-471b-8a2c-83b8edab5e2b",
   "metadata": {},
   "outputs": [],
   "source": []
  }
 ],
 "metadata": {
  "kernelspec": {
   "display_name": "Python 3 (ipykernel)",
   "language": "python",
   "name": "python3"
  },
  "language_info": {
   "codemirror_mode": {
    "name": "ipython",
    "version": 3
   },
   "file_extension": ".py",
   "mimetype": "text/x-python",
   "name": "python",
   "nbconvert_exporter": "python",
   "pygments_lexer": "ipython3",
   "version": "3.12.4"
  }
 },
 "nbformat": 4,
 "nbformat_minor": 5
}
