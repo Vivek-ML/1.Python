{
 "cells": [
  {
   "cell_type": "code",
   "execution_count": 3,
   "id": "3cde689b-73db-499f-975c-afd8a948999d",
   "metadata": {},
   "outputs": [
    {
     "name": "stdin",
     "output_type": "stream",
     "text": [
      "value: 10\n"
     ]
    },
    {
     "name": "stdout",
     "output_type": "stream",
     "text": [
      "Corret\n"
     ]
    }
   ],
   "source": [
    "value=int(input(\"value:\"))\n",
    "if (value==10):\n",
    "    print(\"Corret\")"
   ]
  },
  {
   "cell_type": "code",
   "execution_count": 7,
   "id": "969a0813-caf1-4285-b55e-7d46988b5df6",
   "metadata": {},
   "outputs": [
    {
     "name": "stdin",
     "output_type": "stream",
     "text": [
      "Enter the Password HOPE@123\n"
     ]
    },
    {
     "name": "stdout",
     "output_type": "stream",
     "text": [
      "Your password is correct\n"
     ]
    }
   ],
   "source": [
    "password = input(\"Enter the Password\")\n",
    "if(password==\"HOPE@123\"):\n",
    "    print(\"Your password is correct\")"
   ]
  },
  {
   "cell_type": "code",
   "execution_count": 9,
   "id": "111ed44a-80e2-4b58-91b3-29730b0a911a",
   "metadata": {},
   "outputs": [
    {
     "name": "stdin",
     "output_type": "stream",
     "text": [
      "Enter any num : 1\n"
     ]
    },
    {
     "name": "stdout",
     "output_type": "stream",
     "text": [
      "No is positive\n"
     ]
    }
   ],
   "source": [
    "num = int(input(\"Enter any num :\"))\n",
    "if(num>0):\n",
    "    print(\"No is positive\")\n",
    "\n",
    "else:\n",
    "    print(\"No is Negative\")\n",
    "    "
   ]
  },
  {
   "cell_type": "code",
   "execution_count": 11,
   "id": "8413aa69-0eba-4e13-bcf0-47acd3c26fe0",
   "metadata": {},
   "outputs": [
    {
     "name": "stdin",
     "output_type": "stream",
     "text": [
      "Enter a number to check: 22\n"
     ]
    },
    {
     "name": "stdout",
     "output_type": "stream",
     "text": [
      "No is not divisible by 5\n"
     ]
    }
   ],
   "source": [
    "num = int(input(\"Enter a number to check:\"))\n",
    "if(num%5==0):\n",
    "    print(\"No is divisible by 5\")\n",
    "\n",
    "else:\n",
    "    print(\"No is not divisible by 5\")"
   ]
  },
  {
   "cell_type": "code",
   "execution_count": null,
   "id": "cb101515-711a-4065-b877-81e49eca071a",
   "metadata": {},
   "outputs": [],
   "source": []
  }
 ],
 "metadata": {
  "kernelspec": {
   "display_name": "Python 3 (ipykernel)",
   "language": "python",
   "name": "python3"
  },
  "language_info": {
   "codemirror_mode": {
    "name": "ipython",
    "version": 3
   },
   "file_extension": ".py",
   "mimetype": "text/x-python",
   "name": "python",
   "nbconvert_exporter": "python",
   "pygments_lexer": "ipython3",
   "version": "3.12.4"
  }
 },
 "nbformat": 4,
 "nbformat_minor": 5
}
