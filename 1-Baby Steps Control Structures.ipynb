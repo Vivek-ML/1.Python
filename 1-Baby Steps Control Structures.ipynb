{
 "cells": [
  {
   "cell_type": "code",
   "execution_count": 3,
   "id": "5c44132e-63e5-4d6c-b133-0825ecfd1d41",
   "metadata": {},
   "outputs": [
    {
     "name": "stdout",
     "output_type": "stream",
     "text": [
      "Welcome to Assignment-1\n"
     ]
    }
   ],
   "source": [
    "print(\"Welcome to Assignment-1\")"
   ]
  },
  {
   "cell_type": "code",
   "execution_count": 9,
   "id": "fc70ea56-cd8c-42f1-8279-a6fb3c4a5660",
   "metadata": {},
   "outputs": [
    {
     "name": "stdout",
     "output_type": "stream",
     "text": [
      "Num1 = 10\n",
      "Num1 = 30\n",
      "Addition = 40\n"
     ]
    }
   ],
   "source": [
    "num1, num2= 10,30\n",
    "add = num1+num2\n",
    "print(\"Num1 =\",num1)\n",
    "print(\"Num1 =\",num2)\n",
    "print(\"Addition =\",add)"
   ]
  },
  {
   "cell_type": "code",
   "execution_count": 27,
   "id": "71f189b6-1765-4a93-929a-f760a88b3de3",
   "metadata": {},
   "outputs": [
    {
     "name": "stdin",
     "output_type": "stream",
     "text": [
      "Enter the BMI index = 34\n"
     ]
    },
    {
     "name": "stdout",
     "output_type": "stream",
     "text": [
      "You are Obese class 1\n"
     ]
    }
   ],
   "source": [
    "BMI = int(input(\"Enter the BMI index =\"))\n",
    "if (BMI<=18.5):\n",
    "    print(\"You are underweight\")\n",
    "\n",
    "elif (BMI<=24.9):\n",
    "    print(\"You are Normal weight\")\n",
    "\n",
    "elif (BMI<=29.9):\n",
    "    print(\"You are Pre-Obesity\")\n",
    "\n",
    "elif (BMI<=34.9):\n",
    "    print(\"You are Obese class 1\")\n",
    "\n",
    "elif (BMI<=39.9):\n",
    "    print(\"You are Obese class 2\")\n",
    "\n",
    "else:\n",
    "    print(\"You are Obese class 3\")\n",
    "    "
   ]
  }
 ],
 "metadata": {
  "kernelspec": {
   "display_name": "Python 3 (ipykernel)",
   "language": "python",
   "name": "python3"
  },
  "language_info": {
   "codemirror_mode": {
    "name": "ipython",
    "version": 3
   },
   "file_extension": ".py",
   "mimetype": "text/x-python",
   "name": "python",
   "nbconvert_exporter": "python",
   "pygments_lexer": "ipython3",
   "version": "3.12.4"
  }
 },
 "nbformat": 4,
 "nbformat_minor": 5
}
